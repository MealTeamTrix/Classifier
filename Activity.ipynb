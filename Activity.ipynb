{
 "cells": [
  {
   "cell_type": "markdown",
   "id": "92e3d517-cfb7-4814-a8ce-36f5d36c276c",
   "metadata": {},
   "source": [
    "# Building an E-Commerce Clothing Classifier Model"
   ]
  },
  {
   "cell_type": "code",
   "execution_count": null,
   "id": "1adfa989-9f8d-4e46-bcb6-775c822f7233",
   "metadata": {},
   "outputs": [],
   "source": [
    "# Import libraries\n",
    "import pandas as pd\n",
    "import numpy as np\n",
    "import torch\n",
    "import torch.nn as nn\n",
    "import torch.optim as optim\n",
    "from torch.utils.data import DataLoader\n",
    "from torchmetrics import Accuracy, Precision, Recall"
   ]
  }
 ],
 "metadata": {
  "kernelspec": {
   "display_name": "Python 3 (ipykernel)",
   "language": "python",
   "name": "python3"
  },
  "language_info": {
   "codemirror_mode": {
    "name": "ipython",
    "version": 3
   },
   "file_extension": ".py",
   "mimetype": "text/x-python",
   "name": "python",
   "nbconvert_exporter": "python",
   "pygments_lexer": "ipython3",
   "version": "3.10.12"
  }
 },
 "nbformat": 4,
 "nbformat_minor": 5
}
