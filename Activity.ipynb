{
 "cells": [
  {
   "cell_type": "markdown",
   "id": "92e3d517-cfb7-4814-a8ce-36f5d36c276c",
   "metadata": {},
   "source": [
    "# Building an E-Commerce Clothing Classifier Model"
   ]
  },
  {
   "cell_type": "code",
   "execution_count": 1,
   "id": "1adfa989-9f8d-4e46-bcb6-775c822f7233",
   "metadata": {},
   "outputs": [],
   "source": [
    "# Import libraries\n",
    "import pandas as pd\n",
    "import numpy as np\n",
    "import torch\n",
    "import torch.nn as nn\n",
    "import torch.optim as optim\n",
    "from torch.utils.data import DataLoader\n",
    "from torchmetrics import Accuracy, Precision, Recall"
   ]
  },
  {
   "cell_type": "code",
   "execution_count": 2,
   "id": "1cc29c89-3f47-448c-be64-5df5b4fdb0d0",
   "metadata": {},
   "outputs": [
    {
     "name": "stderr",
     "output_type": "stream",
     "text": [
      "100.0%\n",
      "100.0%\n",
      "100.0%\n",
      "100.0%\n"
     ]
    }
   ],
   "source": [
    "# Load in the data\n",
    "from torchvision import datasets\n",
    "import torchvision.transforms as transforms\n",
    "\n",
    "train_data = datasets.FashionMNIST(root='./data', train=True, download=True, transform=transforms.ToTensor())\n",
    "test_data = datasets.FashionMNIST(root='./data', train=False, download=True, transform=transforms.ToTensor())"
   ]
  },
  {
   "cell_type": "code",
   "execution_count": 6,
   "id": "fdfec066-e290-48d3-abc0-a6f9402312ee",
   "metadata": {},
   "outputs": [
    {
     "data": {
      "text/plain": [
       "Dataset FashionMNIST\n",
       "    Number of datapoints: 60000\n",
       "    Root location: ./data\n",
       "    Split: Train\n",
       "    StandardTransform\n",
       "Transform: ToTensor()"
      ]
     },
     "execution_count": 6,
     "metadata": {},
     "output_type": "execute_result"
    }
   ],
   "source": [
    "# View the results\n",
    "train_data"
   ]
  },
  {
   "cell_type": "code",
   "execution_count": 7,
   "id": "aa23e609-9fab-472a-b173-c5965f346e65",
   "metadata": {},
   "outputs": [
    {
     "data": {
      "text/plain": [
       "Dataset FashionMNIST\n",
       "    Number of datapoints: 10000\n",
       "    Root location: ./data\n",
       "    Split: Test\n",
       "    StandardTransform\n",
       "Transform: ToTensor()"
      ]
     },
     "execution_count": 7,
     "metadata": {},
     "output_type": "execute_result"
    }
   ],
   "source": [
    "test_data"
   ]
  },
  {
   "cell_type": "code",
   "execution_count": 10,
   "id": "9582d7fa-acb1-4fe4-8815-3d579bb4df75",
   "metadata": {},
   "outputs": [
    {
     "data": {
      "text/plain": [
       "10"
      ]
     },
     "execution_count": 10,
     "metadata": {},
     "output_type": "execute_result"
    }
   ],
   "source": [
    "# View the number of classes\n",
    "num_classes = len(train_data.classes)\n",
    "# View the results\n",
    "num_classes"
   ]
  },
  {
   "cell_type": "code",
   "execution_count": 11,
   "id": "556b2058-9e0d-49fb-b1c7-5b64abb7d899",
   "metadata": {},
   "outputs": [],
   "source": [
    "# Set input channels and image size\n",
    "num_input_channels=1\n",
    "image_size= train_data[0][0].shape[1]"
   ]
  },
  {
   "cell_type": "code",
   "execution_count": 18,
   "id": "3bc7f575-516c-4c5a-a330-1b848dab5889",
   "metadata": {},
   "outputs": [],
   "source": [
    "# Define a simple CNN model\n",
    "class SimpleCNN(nn.Module):\n",
    "    def __init__(self, num_classes):\n",
    "        super(SimpleCNN, self).__init__()\n",
    "        # Convolutional layer\n",
    "        self.conv1 = nn.Conv2d(num_input_channels, 16, kernel_size=3, stride=1, padding=1)\n",
    "        # ReLU activation function\n",
    "        self.relu = nn.ReLU()\n",
    "        # Max pooling layer\n",
    "        self.maxpool = nn.MaxPool2d(2)\n",
    "        # Fully connected layer\n",
    "        self.fc = nn.Linear(16 * (image_size // 2) ** 2, num_classes)\n",
    "        \n",
    "    def forward(self, x):\n",
    "        x = self.conv1(x)  \n",
    "        x = self.relu(x)   \n",
    "        x = self.maxpool(x)\n",
    "        x = x.view(x.size(0), -1) \n",
    "        x = self.fc(x)     \n",
    "        return x"
   ]
  },
  {
   "cell_type": "code",
   "execution_count": 16,
   "id": "79f7dc79-96c8-4282-8fc1-81bc58d9acf2",
   "metadata": {},
   "outputs": [],
   "source": [
    "# Training the model\n",
    "def train_model(net, num_epochs=1, batch_size=10):\n",
    "    # Create data loader for training\n",
    "    train_loader = DataLoader(train_data, batch_size=batch_size, shuffle=True)\n",
    "    # Loss function and optimizer\n",
    "    criterion = nn.CrossEntropyLoss()\n",
    "    optimizer = optim.Adam(net.parameters(), lr=0.001)\n",
    "\n",
    "    for epoch in range(num_epochs):\n",
    "        running_loss = 0\n",
    "        for features, labels in train_loader:\n",
    "            optimizer.zero_grad()  # Zero gradients\n",
    "            outputs = net(features)  # Forward pass\n",
    "            loss = criterion(outputs, labels)  # Compute loss\n",
    "            loss.backward()  # Backpropagation\n",
    "            optimizer.step()  # Update weights\n",
    "            running_loss += loss.item()  # Keep track of loss\n",
    "\n",
    "        # Print loss for the current epoch\n",
    "        print(f\"Epoch {epoch + 1}, Loss: {running_loss / len(train_loader)}\")"
   ]
  },
  {
   "cell_type": "code",
   "execution_count": 19,
   "id": "ae75cc1c-3e6f-4be1-8ab5-68b13a9ead58",
   "metadata": {},
   "outputs": [
    {
     "name": "stdout",
     "output_type": "stream",
     "text": [
      "Epoch 1, Loss: 0.42092982680536806\n"
     ]
    }
   ],
   "source": [
    "# Create the model and train it\n",
    "model = SimpleCNN(num_classes)\n",
    "train_model(model)"
   ]
  },
  {
   "cell_type": "code",
   "execution_count": 20,
   "id": "77209b08-9b7b-415d-92e8-898b7cf84a48",
   "metadata": {},
   "outputs": [
    {
     "name": "stdout",
     "output_type": "stream",
     "text": [
      "Accuracy: 0.8787999749183655\n",
      "Precision (per class): [0.7634042501449585, 0.9856410026550293, 0.7707581520080566, 0.899894654750824, 0.8303287625312805, 0.9652432799339294, 0.703661322593689, 0.937685489654541, 0.9875389337539673, 0.9577889442443848]\n",
      "Recall (per class): [0.8970000147819519, 0.9610000252723694, 0.8539999723434448, 0.8539999723434448, 0.7829999923706055, 0.972000002861023, 0.6150000095367432, 0.9480000138282776, 0.9509999752044678, 0.953000009059906]\n"
     ]
    }
   ],
   "source": [
    "# Testing the model\n",
    "def test_model(net):\n",
    "    # Create data loader for testing\n",
    "    test_loader = DataLoader(test_data, batch_size=10, shuffle=False)\n",
    "\n",
    "    # Initialize metrics\n",
    "    accuracy_metric = Accuracy(task=\"multiclass\", num_classes=num_classes)\n",
    "    precision_metric = Precision(task=\"multiclass\", num_classes=num_classes, average=None)\n",
    "    recall_metric = Recall(task=\"multiclass\", num_classes=num_classes, average=None)\n",
    "\n",
    "    net.eval()  # Set the model to evaluation mode\n",
    "    predictions = []\n",
    "\n",
    "    # Iterate over test data and calculate metrics\n",
    "    for features, labels in test_loader:\n",
    "        outputs = net(features)\n",
    "        preds = torch.argmax(outputs, dim=-1)\n",
    "        predictions.extend(preds.tolist())\n",
    "        \n",
    "        # Update metrics\n",
    "        accuracy_metric(preds, labels)\n",
    "        precision_metric(preds, labels)\n",
    "        recall_metric(preds, labels)\n",
    "\n",
    "    # Print out the final metrics\n",
    "    accuracy = accuracy_metric.compute().item()\n",
    "    precision = precision_metric.compute().tolist()\n",
    "    recall = recall_metric.compute().tolist()\n",
    "\n",
    "    print(f\"Accuracy: {accuracy}\")\n",
    "    print(f\"Precision (per class): {precision}\")\n",
    "    print(f\"Recall (per class): {recall}\")\n",
    "\n",
    "# Test the model after training\n",
    "test_model(model)"
   ]
  }
 ],
 "metadata": {
  "kernelspec": {
   "display_name": "Python 3 (ipykernel)",
   "language": "python",
   "name": "python3"
  },
  "language_info": {
   "codemirror_mode": {
    "name": "ipython",
    "version": 3
   },
   "file_extension": ".py",
   "mimetype": "text/x-python",
   "name": "python",
   "nbconvert_exporter": "python",
   "pygments_lexer": "ipython3",
   "version": "3.10.12"
  }
 },
 "nbformat": 4,
 "nbformat_minor": 5
}
